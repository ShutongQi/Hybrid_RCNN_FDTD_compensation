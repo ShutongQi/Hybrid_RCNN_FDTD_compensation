{
 "cells": [
  {
   "cell_type": "code",
   "execution_count": 1,
   "id": "5c10c0bf",
   "metadata": {},
   "outputs": [],
   "source": [
    "import numpy as np\n",
    "import torch\n",
    "from torch import nn\n",
    "import torch.nn.functional as F\n",
    "import scipy.io as scio\n",
    "import scipy.signal as signal\n",
    "from torch.utils.data import Dataset\n",
    "from torch.utils.data import DataLoader\n",
    "import h5py"
   ]
  },
  {
   "cell_type": "code",
   "execution_count": 6,
   "id": "2cea532b",
   "metadata": {},
   "outputs": [],
   "source": [
    "'''\n",
    "Parameters:\n",
    "LSTM_step: the number of lstm steps in the network\n",
    "tot_len_coarse:  total number of the input coarse mesh FDTD simulation result\n",
    "len_coarse: the number of coarse mesh assigned to each lstm step\n",
    "tot_len_dense:  total number of the output dense mesh FDTD simulation result\n",
    "len_dense: the number of dense mesh assigned to each lstm step\n",
    "INPUT_SIZE: LSTM input size\n",
    "LR: learning rate\n",
    "BATCH: batch size\n",
    "save_model: choose if to save the trained model\n",
    "'''\n",
    "\n",
    "LSTM_step = 10\n",
    "len_coarse = 18\n",
    "len_dense = 13\n",
    "tot_len_coarse = LSTM_step*len_coarse\n",
    "tot_len_dense = LSTM_step*len_dense\n",
    "\n",
    "INPUT_SIZE = len_coarse+len_dense     \n",
    "LR = 1e-4\n",
    "BATCH = 16\n",
    "save_model = True"
   ]
  },
  {
   "cell_type": "code",
   "execution_count": 8,
   "id": "21940328",
   "metadata": {},
   "outputs": [],
   "source": [
    "# Initial a hybrid CRNN\n",
    "\n",
    "from HybridCRNN import CRNN\n",
    "crnn = CRNN(INPUT_SIZE, len_dense)\n",
    "\n",
    "# Setup optimizer, loss function, and device configuration\n",
    "\n",
    "optimizer = torch.optim.Adam(crnn.parameters(), lr=LR, weight_decay = 5e-5)   # optimize all cnn parameters\n",
    "loss_func = nn.MSELoss()\n",
    "\n",
    "use_gpu = torch.cuda.is_available()\n",
    "\n",
    "device = torch.device(\"cuda\" if torch.cuda.is_available() else \"cpu\")    \n",
    "if torch.cuda.device_count() > 1: \n",
    "    crnn = nn.DataParallel(crnn) \n",
    "    \n",
    "crnn.to(device)\n",
    "loss_func = loss_func.to(device)\n",
    "\n",
    "# Load training and testing sets\n",
    "\n",
    "from ClassDataset import H5Dataset\n",
    "training_set = H5Dataset('training_data.h5', LSTM_step, len_coarse, len_dense)\n",
    "testing_set = H5Dataset('testing_data.h5', LSTM_step, len_coarse, len_dense)\n",
    "\n",
    "training_dataloader = DataLoader(training_set, batch_size=BATCH, shuffle=True)\n",
    "testing_dataloader = DataLoader(testing_set, batch_size=BATCH, shuffle=True)"
   ]
  },
  {
   "cell_type": "code",
   "execution_count": 20,
   "id": "9a5c8b8b",
   "metadata": {},
   "outputs": [],
   "source": [
    "# Train the model\n",
    "from TrainCRNN import CRNNTrainer\n",
    "epochs = 100\n",
    "trainer = CRNNTrainer(crnn, (training_dataloader, testing_dataloader), loss_func, optimizer, epochs, LSTM_step)\n",
    "trainer.train()\n",
    "training_losses, testing_losses = trainer.get_losses()"
   ]
  },
  {
   "cell_type": "code",
   "execution_count": 19,
   "id": "ef7b2dcc",
   "metadata": {},
   "outputs": [],
   "source": [
    "# post processing\n",
    "if save_model:\n",
    "    torch.save(crnn.state_dict(), 'crnn.pth')"
   ]
  },
  {
   "cell_type": "code",
   "execution_count": 14,
   "id": "03ff683d",
   "metadata": {},
   "outputs": [],
   "source": [
    "# # validation process\n",
    "\n",
    "# crnn = CRNN(INPUT_SIZE, len_dense)\n",
    "# crnn.load_state_dict(torch.load('crnn.pth'))\n",
    "# crnn.eval()  # Set the model to evaluation mode\n",
    "\n",
    "# validation_set = H5Dataset('validation_data.h5', LSTM_step, len_coarse, len_dense)\n",
    "\n",
    "# val_dataloader = DataLoader(validation_set, batch_size=BATCH, shuffle=True)\n",
    "# prediction, gt = trainer.predict(val_dataloader)\n",
    "# prediction, gt = torch.stack(prediction), torch.stack(gt)\n",
    "# pre_np, gt_np = prediction.numpy().reshape((len(validation_set),-1)), gt.numpy().reshape((len(validation_set),-1))"
   ]
  }
 ],
 "metadata": {
  "kernelspec": {
   "display_name": "Python 3 (ipykernel)",
   "language": "python",
   "name": "python3"
  },
  "language_info": {
   "codemirror_mode": {
    "name": "ipython",
    "version": 3
   },
   "file_extension": ".py",
   "mimetype": "text/x-python",
   "name": "python",
   "nbconvert_exporter": "python",
   "pygments_lexer": "ipython3",
   "version": "3.10.9"
  }
 },
 "nbformat": 4,
 "nbformat_minor": 5
}
