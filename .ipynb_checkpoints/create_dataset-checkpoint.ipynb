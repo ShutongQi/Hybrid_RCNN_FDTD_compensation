{
 "cells": [
  {
   "cell_type": "markdown",
   "id": "bd976acf",
   "metadata": {},
   "source": [
    "## Build a .h5 dateset from pregenerated data\n",
    "The data include 3 categories, each has 100 for training, 20 for testing and 20 for validation"
   ]
  },
  {
   "cell_type": "code",
   "execution_count": 1,
   "id": "3897c40e",
   "metadata": {},
   "outputs": [],
   "source": [
    "import numpy as np\n",
    "import h5py\n",
    "import scipy.io\n",
    "import os\n",
    "from scipy.io import loadmat, savemat\n",
    "import matplotlib.pyplot as plt"
   ]
  },
  {
   "cell_type": "code",
   "execution_count": 4,
   "id": "79596999",
   "metadata": {},
   "outputs": [],
   "source": [
    "dataset_name = 'training_data.h5'\n",
    "file_list = ['stub', 'step', 'radial']\n",
    "idx = 0\n",
    "length = 100\n",
    "for file in file_list:\n",
    "    for i in range(length):\n",
    "        file_name = './' + file + '_data/data' + str(i+1)+'.mat'\n",
    "        data_temp = loadmat(file_name)\n",
    "        \n",
    "        with h5py.File(dataset_name, 'a') as hdf:\n",
    "            group = hdf.create_group(f'data_group_{length*idx+i}')\n",
    "            group.create_dataset('pattern', data=data_temp['eps_pattern'])\n",
    "            group.create_dataset('sub_thickness', data=data_temp['hp_pattern'][0,0])\n",
    "            group.create_dataset('S11C', data=data_temp['S11C3'][:1000])\n",
    "            group.create_dataset('S21C', data=data_temp['S21C3'][:1000])\n",
    "            group.create_dataset('S11D', data=data_temp['S11D'][:1000])\n",
    "            group.create_dataset('S21D', data=data_temp['S21D'][:1000])\n",
    "            \n",
    "            \n",
    "    idx = idx +1"
   ]
  },
  {
   "cell_type": "code",
   "execution_count": 21,
   "id": "b071203a",
   "metadata": {},
   "outputs": [],
   "source": [
    "import torch\n",
    "from torch.utils.data import Dataset\n",
    "import h5py\n",
    "import numpy as np\n",
    "\n",
    "class H5Dataset(Dataset):\n",
    "    def __init__(self, h5_filename):\n",
    "        self.h5_filename = h5_filename\n",
    "        self.h5_file = h5py.File(h5_filename, 'r')\n",
    "        self.groups = list(self.h5_file.keys())\n",
    "\n",
    "    def __len__(self):\n",
    "        return len(self.groups)\n",
    "    \n",
    "    def log_normalize(self, x):\n",
    "        return (20*np.log10(np.abs(x))+50)/50\n",
    "\n",
    "    def __getitem__(self, idx):\n",
    "        if not self.h5_file.id:\n",
    "            self.h5_file = h5py.File(self.h5_filename, 'r')\n",
    "\n",
    "        group = self.h5_file[self.groups[idx]]\n",
    "\n",
    "        pattern = group['pattern'][:]/10\n",
    "        sub_thickness = group['sub_thickness'][()]*10\n",
    "        sub_info = sub_thickness*np.zeros_like(pattern)\n",
    "        CNN_in = np.stack([pattern, sub_info], axis = 0)\n",
    "        CNN_in = torch.tensor(CNN_in, dtype=torch.float32)\n",
    "        \n",
    "        S21C = self.log_normalize(group['S21C'][:180]).reshape((10,18))\n",
    "        S21D = self.log_normalize(group['S21D'][:130]).reshape((10,13))\n",
    "        \n",
    "        LSTM_in = torch.tensor(S21C, dtype=torch.float32)\n",
    "        HybridNN_out = torch.tensor(S21D, dtype=torch.float32)\n",
    "\n",
    "        return CNN_in, LSTM_in, HybridNN_out\n",
    "\n",
    "    def close(self):\n",
    "        self.h5_file.close()\n",
    "\n"
   ]
  },
  {
   "cell_type": "code",
   "execution_count": 22,
   "id": "cafa320e",
   "metadata": {},
   "outputs": [
    {
     "name": "stdout",
     "output_type": "stream",
     "text": [
      "CNN input: torch.Size([10, 2, 100, 100])\n",
      "LSTM input: torch.Size([10, 10, 18])\n",
      "Hybrid output: torch.Size([10, 10, 13])\n"
     ]
    }
   ],
   "source": [
    "from torch.utils.data import DataLoader\n",
    "\n",
    "# Initial dataset\n",
    "dataset = H5Dataset('training_data.h5')\n",
    "\n",
    "# Create DataLoader\n",
    "data_loader = DataLoader(dataset, batch_size=10, shuffle=True)\n",
    "\n",
    "# Use DataLoader\n",
    "for CNN_in, LSTM_in, HybridNN_out in data_loader:\n",
    "    print(\"CNN input:\", CNN_in.shape)\n",
    "    print(\"LSTM input:\", LSTM_in.shape)\n",
    "    print(\"Hybrid output:\", HybridNN_out.shape)\n",
    "    break  # only for the first batch\n",
    "\n",
    "dataset.close()\n"
   ]
  }
 ],
 "metadata": {
  "kernelspec": {
   "display_name": "Python 3 (ipykernel)",
   "language": "python",
   "name": "python3"
  },
  "language_info": {
   "codemirror_mode": {
    "name": "ipython",
    "version": 3
   },
   "file_extension": ".py",
   "mimetype": "text/x-python",
   "name": "python",
   "nbconvert_exporter": "python",
   "pygments_lexer": "ipython3",
   "version": "3.10.9"
  }
 },
 "nbformat": 4,
 "nbformat_minor": 5
}
