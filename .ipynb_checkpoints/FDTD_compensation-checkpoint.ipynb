{
 "cells": [
  {
   "cell_type": "code",
   "execution_count": 1,
   "id": "5c10c0bf",
   "metadata": {},
   "outputs": [],
   "source": [
    "import numpy as np\n",
    "import torch\n",
    "from torch import nn\n",
    "import torch.nn.functional as F\n",
    "import scipy.io as scio\n",
    "import scipy.signal as signal\n",
    "from torch.utils.data import Dataset\n",
    "from torch.utils.data import DataLoader\n",
    "import h5py"
   ]
  },
  {
   "cell_type": "code",
   "execution_count": 2,
   "id": "2cea532b",
   "metadata": {},
   "outputs": [],
   "source": [
    "LSTM_step = 10\n",
    "len_coarse = 18\n",
    "len_dense = 13\n",
    "tot_len_coarse = LSTM_step*len_coarse\n",
    "tot_len_dense = LSTM_step*len_dense\n",
    "\n",
    "# Hyper Parameters\n",
    "TIME_STEP = LSTM_step    \n",
    "INPUT_SIZE = len_coarse+len_dense     \n",
    "LR = 1e-4\n",
    "BATCH = 16"
   ]
  },
  {
   "cell_type": "code",
   "execution_count": 3,
   "id": "ddf780c9",
   "metadata": {},
   "outputs": [],
   "source": [
    "from HybridCRNN import CRNN\n",
    "crnn = CRNN(INPUT_SIZE, len_dense)"
   ]
  },
  {
   "cell_type": "code",
   "execution_count": 4,
   "id": "21940328",
   "metadata": {},
   "outputs": [],
   "source": [
    "optimizer = torch.optim.Adam(crnn.parameters(), lr=LR, weight_decay = 5e-5)   # optimize all cnn parameters\n",
    "loss_func = nn.MSELoss()\n",
    "\n",
    "use_gpu = torch.cuda.is_available()\n",
    "\n",
    "device = torch.device(\"cuda\" if torch.cuda.is_available() else \"cpu\")    \n",
    "if torch.cuda.device_count() > 1: \n",
    "    crnn = nn.DataParallel(crnn) \n",
    "crnn.to(device)\n",
    "loss_func = loss_func.to(device)"
   ]
  },
  {
   "cell_type": "code",
   "execution_count": 5,
   "id": "bead412d",
   "metadata": {},
   "outputs": [],
   "source": [
    "from ClassDataset import H5Dataset\n",
    "training_set = H5Dataset('training_data.h5', LSTM_step, len_coarse, len_dense)\n",
    "testing_set = H5Dataset('testing_data.h5', LSTM_step, len_coarse, len_dense)\n",
    "\n",
    "training_dataloader = DataLoader(training_set, batch_size=BATCH, shuffle=True)\n",
    "testing_dataloader = DataLoader(testing_set, batch_size=BATCH, shuffle=True)"
   ]
  },
  {
   "cell_type": "code",
   "execution_count": 6,
   "id": "3d557d25",
   "metadata": {},
   "outputs": [],
   "source": [
    "# import torch\n",
    "\n",
    "# def train_crnn(crnn, training_dataloader, testing_dataloader, loss_func, optimizer, epochs, LSTM_step, use_gpu=True, ):\n",
    "#     \"\"\"\n",
    "#     Trains and evaluates a CRNN model.\n",
    "    \n",
    "#     Parameters:\n",
    "#     - crnn: The CRNN model.\n",
    "#     - training_dataloader: DataLoader for the training data.\n",
    "#     - testing_dataloader: DataLoader for the testing data.\n",
    "#     - loss_func: Loss function used for training.\n",
    "#     - optimizer: Optimizer used for training.\n",
    "#     - epochs: Number of training epochs.\n",
    "#     - use_gpu: Flag to use GPU if available.\n",
    "    \n",
    "#     Returns:\n",
    "#     - training_losses: List of training losses per epoch.\n",
    "#     - testing_losses: List of testing losses per epoch.\n",
    "#     \"\"\"\n",
    "#     device = torch.device(\"cuda\" if torch.cuda.is_available() and use_gpu else \"cpu\")\n",
    "#     training_losses = []\n",
    "#     testing_losses = []\n",
    "#     crnn.to(device)\n",
    "\n",
    "#     for epoch in range(epochs):\n",
    "#         train_loss_accum = 0.0\n",
    "#         test_loss_accum = 0.0\n",
    "\n",
    "#         # Training phase\n",
    "#         crnn.train()\n",
    "#         for CNN_in, LSTM_in, HybridNN_out in training_dataloader:\n",
    "#             CNN_in, LSTM_in, HybridNN_out = CNN_in.to(device), LSTM_in.to(device), HybridNN_out.to(device)\n",
    "\n",
    "#             prediction = crnn(LSTM_in, CNN_in, LSTM_step)\n",
    "#             loss = loss_func(prediction, HybridNN_out)\n",
    "#             train_loss_accum += loss.item()\n",
    "\n",
    "#             optimizer.zero_grad()\n",
    "#             loss.backward()\n",
    "#             optimizer.step()\n",
    "\n",
    "#         # Calculate average training loss for the epoch\n",
    "#         avg_train_loss = train_loss_accum / len(training_dataloader.dataset)\n",
    "#         training_losses.append(avg_train_loss)\n",
    "\n",
    "#         # Testing phase\n",
    "#         crnn.eval()\n",
    "#         with torch.no_grad():\n",
    "#             for CNN_in, LSTM_in, HybridNN_out in testing_dataloader:\n",
    "#                 CNN_in, LSTM_in, HybridNN_out = CNN_in.to(device), LSTM_in.to(device), HybridNN_out.to(device)\n",
    "\n",
    "#                 prediction = crnn(LSTM_in, CNN_in, LSTM_step)\n",
    "#                 loss = loss_func(prediction, HybridNN_out)\n",
    "#                 test_loss_accum += loss.item()\n",
    "\n",
    "#         # Calculate average testing loss for the epoch\n",
    "#         avg_test_loss = test_loss_accum / len(testing_dataloader.dataset)\n",
    "#         testing_losses.append(avg_test_loss)\n",
    "\n",
    "#         print(f\"Epoch {epoch+1}: Training Loss = {avg_train_loss:.4f}, Testing Loss = {avg_test_loss:.4f}\")\n",
    "\n",
    "#     return crnn, training_losses, testing_losses"
   ]
  },
  {
   "cell_type": "code",
   "execution_count": 6,
   "id": "6f11c681",
   "metadata": {},
   "outputs": [],
   "source": [
    "from TrainCRNN import CRNNTrainer"
   ]
  },
  {
   "cell_type": "code",
   "execution_count": 7,
   "id": "d914aad5",
   "metadata": {},
   "outputs": [],
   "source": [
    "# epochs = 5\n",
    "# trained_crnn, training_losses, testing_losses = train_crnn(crnn, training_dataloader, testing_dataloader, loss_func, optimizer, epochs, LSTM_step)"
   ]
  },
  {
   "cell_type": "code",
   "execution_count": 9,
   "id": "9a5c8b8b",
   "metadata": {},
   "outputs": [
    {
     "name": "stdout",
     "output_type": "stream",
     "text": [
      "Epoch 1: Training Loss = 0.0358, Testing Loss = 0.0353\n",
      "Epoch 2: Training Loss = 0.0333, Testing Loss = 0.0325\n",
      "Epoch 3: Training Loss = 0.0303, Testing Loss = 0.0288\n",
      "Epoch 4: Training Loss = 0.0260, Testing Loss = 0.0235\n",
      "Epoch 5: Training Loss = 0.0196, Testing Loss = 0.0159\n"
     ]
    }
   ],
   "source": [
    "epochs = 5\n",
    "trainer = CRNNTrainer(crnn, (training_dataloader, testing_dataloader), loss_func, optimizer, epochs, LSTM_step)\n",
    "trainer.train()\n",
    "training_losses, testing_losses = trainer.get_losses()"
   ]
  },
  {
   "cell_type": "code",
   "execution_count": null,
   "id": "106aaced",
   "metadata": {},
   "outputs": [],
   "source": []
  }
 ],
 "metadata": {
  "kernelspec": {
   "display_name": "Python 3 (ipykernel)",
   "language": "python",
   "name": "python3"
  },
  "language_info": {
   "codemirror_mode": {
    "name": "ipython",
    "version": 3
   },
   "file_extension": ".py",
   "mimetype": "text/x-python",
   "name": "python",
   "nbconvert_exporter": "python",
   "pygments_lexer": "ipython3",
   "version": "3.10.9"
  }
 },
 "nbformat": 4,
 "nbformat_minor": 5
}
